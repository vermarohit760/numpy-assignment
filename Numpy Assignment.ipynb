{
 "cells": [
  {
   "cell_type": "code",
   "execution_count": null,
   "id": "d0cc6ae0",
   "metadata": {},
   "outputs": [],
   "source": [
    "'''\n",
    "1. Create a null vector of size 10 but the fifth value which is 1.\n",
    "2. Create a vector with values ranging from 10 to 49.\n",
    "3. Create a 3x3 matrix with values ranging from 0 to 8\n",
    "4. Find indices of non-zero elements from [1,2,0,0,4,0]\n",
    "5. Create a 10x10 array with random values and find the minimum and maximum values.\n",
    "6. Create a random vector of size 30 and find the mean value.\n",
    "'''"
   ]
  },
  {
   "cell_type": "code",
   "execution_count": 9,
   "id": "68301baf",
   "metadata": {},
   "outputs": [
    {
     "name": "stdout",
     "output_type": "stream",
     "text": [
      "[0 0 0 0 1 0 0 0 0 0]\n"
     ]
    }
   ],
   "source": [
    "'''1. Create a null vector of size 10 but the fifth value which is 1.'''\n",
    "import numpy as np\n",
    "a=np.zeros(10,dtype=int)\n",
    "a[4]=1\n",
    "print(a)"
   ]
  },
  {
   "cell_type": "code",
   "execution_count": 10,
   "id": "b042ccc6",
   "metadata": {},
   "outputs": [
    {
     "name": "stdout",
     "output_type": "stream",
     "text": [
      "[10 11 12 13 14 15 16 17 18 19 20 21 22 23 24 25 26 27 28 29 30 31 32 33\n",
      " 34 35 36 37 38 39 40 41 42 43 44 45 46 47 48 49]\n"
     ]
    }
   ],
   "source": [
    "'''2. Create a vector with values ranging from 10 to 49.'''\n",
    "b=np.arange(10,50,dtype=int)\n",
    "print(b)"
   ]
  },
  {
   "cell_type": "code",
   "execution_count": 11,
   "id": "134d3519",
   "metadata": {},
   "outputs": [
    {
     "name": "stdout",
     "output_type": "stream",
     "text": [
      "[[0 1 2]\n",
      " [3 4 5]\n",
      " [6 7 8]]\n"
     ]
    }
   ],
   "source": [
    "'''3. Create a 3x3 matrix with values ranging from 0 to 8'''\n",
    "b=np.arange(9).reshape(3,3)\n",
    "print(b)"
   ]
  },
  {
   "cell_type": "code",
   "execution_count": 31,
   "id": "3b208c0b",
   "metadata": {},
   "outputs": [
    {
     "name": "stdout",
     "output_type": "stream",
     "text": [
      "The index of all non zero element of array is [[0 1 4]]\n"
     ]
    }
   ],
   "source": [
    "'''4. Find indices of non-zero elements from [1,2,0,0,4,0]'''\n",
    "a=np.array([1,2,0,0,4,0])\n",
    "b=np.array(np.nonzero(a))\n",
    "print('The index of all non zero element of array is {}'.format(b))"
   ]
  },
  {
   "cell_type": "code",
   "execution_count": 29,
   "id": "230c1962",
   "metadata": {},
   "outputs": [
    {
     "name": "stdout",
     "output_type": "stream",
     "text": [
      "[[759 320 861 816 195 831 613 443 232 159]\n",
      " [353 744 391 122 776 310 418 551 758 585]\n",
      " [655 830 542 857 538 648 849 435 102 411]\n",
      " [516 429 332 826 645 854 860 377 102 541]\n",
      " [149 194 780 536 226  89  71 195 323 654]\n",
      " [ 30 741 327 701 540 533 324 184  23 321]\n",
      " [667 876 495 714 489  14 184 374 874 349]\n",
      " [561 978 976 129 695 190 176 902  96 672]\n",
      " [578 342 444 819 603 747 984 153 867 417]\n",
      " [897 422 924 770 236 282 770 959 494 423]]\n",
      "The maximum number in the array is 984\n",
      "The minimum number in the array is 14\n"
     ]
    }
   ],
   "source": [
    "'''5. Create a 10x10 array with random values and find the minimum and maximum values.'''\n",
    "a=np.random.randint(low=10,high=1000,size=(10,10))\n",
    "print(a)\n",
    "print('The maximum number in the array is {}'.format(a.max()))\n",
    "print('The minimum number in the array is {}'.format(a.min()))"
   ]
  },
  {
   "cell_type": "code",
   "execution_count": 32,
   "id": "8a0f83f8",
   "metadata": {},
   "outputs": [
    {
     "name": "stdout",
     "output_type": "stream",
     "text": [
      "[247  52 551 428  33 916 766 643  11 367 557 485 897 468 603 517 364 451\n",
      " 751 330 303 225  83  99 238 851 176 932 933 928]\n",
      "The mean value of the give array is 473.5\n"
     ]
    }
   ],
   "source": [
    "'''6. Create a random vector of size 30 and find the mean value.'''\n",
    "a=np.random.randint(low=10,high=1000,size=(30,))\n",
    "print(a)\n",
    "print('The mean value of the give array is {}'.format(a.mean()))"
   ]
  },
  {
   "cell_type": "code",
   "execution_count": null,
   "id": "637ae5b9",
   "metadata": {},
   "outputs": [],
   "source": []
  }
 ],
 "metadata": {
  "kernelspec": {
   "display_name": "Python 3 (ipykernel)",
   "language": "python",
   "name": "python3"
  },
  "language_info": {
   "codemirror_mode": {
    "name": "ipython",
    "version": 3
   },
   "file_extension": ".py",
   "mimetype": "text/x-python",
   "name": "python",
   "nbconvert_exporter": "python",
   "pygments_lexer": "ipython3",
   "version": "3.9.6"
  }
 },
 "nbformat": 4,
 "nbformat_minor": 5
}
